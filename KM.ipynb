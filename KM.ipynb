{
  "nbformat": 4,
  "nbformat_minor": 0,
  "metadata": {
    "colab": {
      "provenance": [],
      "collapsed_sections": [
        "sz2rcjf0Kn9A",
        "xMQwOvMUO_AY",
        "QxgluOMn2Wvm",
        "8zPcadeTK0Vr"
      ]
    },
    "kernelspec": {
      "name": "python3",
      "display_name": "Python 3"
    },
    "language_info": {
      "name": "python"
    }
  },
  "cells": [
    {
      "cell_type": "code",
      "source": [
        "# Replace the URL with your repository URL\n",
        "!git clone https://github.com/PloyPPL/KM-data.git\n"
      ],
      "metadata": {
        "colab": {
          "base_uri": "https://localhost:8080/"
        },
        "id": "0XT3tAxYE36l",
        "outputId": "981620c9-b657-4100-fe2c-d13505e17ef3"
      },
      "execution_count": null,
      "outputs": [
        {
          "output_type": "stream",
          "name": "stdout",
          "text": [
            "Cloning into 'KM-data'...\n",
            "remote: Enumerating objects: 4, done.\u001b[K\n",
            "remote: Counting objects: 100% (4/4), done.\u001b[K\n",
            "remote: Compressing objects: 100% (3/3), done.\u001b[K\n",
            "remote: Total 4 (delta 0), reused 0 (delta 0), pack-reused 0 (from 0)\u001b[K\n",
            "Receiving objects: 100% (4/4), done.\n"
          ]
        }
      ]
    },
    {
      "cell_type": "code",
      "source": [
        "!cd .."
      ],
      "metadata": {
        "id": "MvbT57ifJflz"
      },
      "execution_count": 23,
      "outputs": []
    },
    {
      "cell_type": "code",
      "source": [
        "!pwd"
      ],
      "metadata": {
        "colab": {
          "base_uri": "https://localhost:8080/"
        },
        "id": "yVcOfWHZJXXO",
        "outputId": "268457a5-a372-4369-b59c-a9d0408b3ac1"
      },
      "execution_count": 24,
      "outputs": [
        {
          "output_type": "stream",
          "name": "stdout",
          "text": [
            "/content/KM-data\n"
          ]
        }
      ]
    },
    {
      "cell_type": "code",
      "source": [
        "# Navigate to the repository folder\n",
        "%cd /content/KM-data\n"
      ],
      "metadata": {
        "colab": {
          "base_uri": "https://localhost:8080/"
        },
        "id": "JoApmJw1F9Ep",
        "outputId": "48f4362b-b611-4aff-fdf6-392c15f1b71c"
      },
      "execution_count": 27,
      "outputs": [
        {
          "output_type": "stream",
          "name": "stdout",
          "text": [
            "[Errno 2] No such file or directory: '/KM'\n",
            "/content/KM-data\n"
          ]
        }
      ]
    },
    {
      "cell_type": "code",
      "source": [
        "!pwd"
      ],
      "metadata": {
        "colab": {
          "base_uri": "https://localhost:8080/"
        },
        "id": "xaA28e2lI8N6",
        "outputId": "3a17d88f-3891-477e-d10f-0caae0345c54"
      },
      "execution_count": 31,
      "outputs": [
        {
          "output_type": "stream",
          "name": "stdout",
          "text": [
            "/content/KM-data\n"
          ]
        }
      ]
    },
    {
      "cell_type": "code",
      "source": [
        "\n",
        "# Add the uploaded files\n",
        "!git add ."
      ],
      "metadata": {
        "id": "ofWobE5qF_y8"
      },
      "execution_count": null,
      "outputs": []
    },
    {
      "cell_type": "code",
      "source": [
        "!git status .\n"
      ],
      "metadata": {
        "colab": {
          "base_uri": "https://localhost:8080/"
        },
        "id": "e8MS4PnSGfJt",
        "outputId": "76bcc4c9-e139-4e2a-ab71-650459bc0b25"
      },
      "execution_count": null,
      "outputs": [
        {
          "output_type": "stream",
          "name": "stdout",
          "text": [
            "On branch main\n",
            "Your branch is up to date with 'origin/main'.\n",
            "\n",
            "nothing to commit, working tree clean\n"
          ]
        }
      ]
    },
    {
      "cell_type": "code",
      "source": [
        "!git config --global user.email \"ploypailin.nol@student.mahidol.edu\"\n",
        "!git config --global user.name \"PloyPPL\""
      ],
      "metadata": {
        "id": "5XxV_2aIIUys"
      },
      "execution_count": null,
      "outputs": []
    },
    {
      "cell_type": "code",
      "source": [
        "\n",
        "# Commit the changes (provide a commit message)\n",
        "!git commit -m \"Your commit message\"\n",
        "\n",
        "# Push the changes (if you haven't set up authentication, it will ask for credentials)\n",
        "!git push origin main  # Replace \"main\" with the appropriate branch\n"
      ],
      "metadata": {
        "colab": {
          "base_uri": "https://localhost:8080/"
        },
        "id": "j1jeuQIgF2zP",
        "outputId": "40355bcd-0667-4437-c29d-1d2445e7fab5"
      },
      "execution_count": null,
      "outputs": [
        {
          "output_type": "stream",
          "name": "stdout",
          "text": [
            "On branch main\n",
            "Your branch is up to date with 'origin/main'.\n",
            "\n",
            "nothing to commit, working tree clean\n",
            "fatal: could not read Username for 'https://github.com': No such device or address\n"
          ]
        }
      ]
    },
    {
      "cell_type": "markdown",
      "source": [
        "!!!!! คำเตือน !!!!!! ก่อนรัน Code ทุกครั้ง โปรดทำการตรวจสอบข้อมูลให้ครบถ้วน โดย\n",
        "1. ลบข้อมูลเก่าใน Drive\n",
        "2. มีข้อมูลใน Drive และต้องใส่ไฟล์ให้ถูก Folder\n"
      ],
      "metadata": {
        "id": "iPl4fkIiCF57"
      }
    },
    {
      "cell_type": "markdown",
      "source": [
        "#content code"
      ],
      "metadata": {
        "id": "BVq22g1RKjzy"
      }
    },
    {
      "cell_type": "code",
      "source": [
        "# Step 1: Mount Google Drive\n",
        "from google.colab import drive\n",
        "drive.mount('/content/drive')\n",
        "\n",
        "# Step 2: Set the path to your folder in Google Drive\n",
        "import os\n",
        "import pandas as pd\n",
        "from datetime import datetime\n",
        "\n",
        "folder_path = '/content/drive/MyDrive/KM/Content'  # Replace with your actual folder path\n",
        "\n",
        "# Install the missing module\n",
        "!pip install xlsxwriter\n",
        "\n",
        "# Step 3: Combine Excel files into one DataFrame\n",
        "combined_df = pd.DataFrame()  # Initialize an empty DataFrame\n",
        "\n",
        "files = os.listdir(folder_path)\n",
        "files.sort(key=lambda x: x.lower())\n",
        "for i_file, file_name in enumerate(files):\n",
        "    if file_name.endswith('.xlsx') or file_name.endswith('.xls'):\n",
        "        file_path = os.path.join(folder_path, file_name)\n",
        "\n",
        "        # Read the Excel file\n",
        "        df = pd.read_excel(file_path, header=None)\n",
        "\n",
        "        # Extract required data\n",
        "        no = df.index[5:] + 1                              # Data from A6 onward\n",
        "        date = pd.Series([df.iloc[df[df.iloc[:, 0] == 'Date'].index[0], 1]] * len(no))\n",
        "        km = pd.Series([df.iloc[1, 0]] * len(no))          # Data from A2\n",
        "        title = df.iloc[5:, 0].reset_index(drop=True)      # Data from A6 onward\n",
        "        location = df.iloc[5:, 1].reset_index(drop=True)   # Data from B6 onward\n",
        "        url = df.iloc[5:, 2].reset_index(drop=True)        # Data from C6 onward\n",
        "        content_type = df.iloc[5:, 3].reset_index(drop=True) # Data from D6 onward\n",
        "        views = df.iloc[5:, 4].fillna(0).reset_index(drop=True)  # Data from E6 onward, replace empty cells with 0\n",
        "        likes = df.iloc[5:, 5].fillna(0).reset_index(drop=True)  # Data from F6 onward, replace empty cells with 0\n",
        "        rating = df.iloc[5:, 6].fillna(0).reset_index(drop=True) # Data from G6 onward, replace empty cells with 0\n",
        "        downloads = df.iloc[5:, 7].fillna(0).reset_index(drop=True)  # Data from H6 onward, replace empty cells with 0\n",
        "\n",
        "        # Combine extracted data into a DataFrame\n",
        "        file_combined_df = pd.DataFrame({\n",
        "            'No': no,\n",
        "            'Date': date,\n",
        "            'KM': km,\n",
        "            'Title': title,\n",
        "            'Location': location,\n",
        "            'URL': url,\n",
        "            'Content Type': content_type,\n",
        "            'Views': views,\n",
        "            'Likes': likes,\n",
        "            'Rating': rating,\n",
        "            'Downloads': downloads\n",
        "        })\n",
        "\n",
        "        # Concatenate to the main DataFrame\n",
        "        combined_df = pd.concat([combined_df, file_combined_df], ignore_index=True)\n",
        "\n",
        "# Get the current month and year for the file name\n",
        "current_month_year = datetime.now().strftime('%b_%Y')\n",
        "\n",
        "# Step 4: Save the combined DataFrame to an Excel file with the current month and year in the filename\n",
        "combined_file_path = f'/content/combined_KM_Content_{current_month_year}.xlsx'\n",
        "combined_df.to_excel(combined_file_path, index=False)\n",
        "\n",
        "# Step 5: Provide a download link\n",
        "from google.colab import files\n",
        "files.download(combined_file_path)\n"
      ],
      "metadata": {
        "id": "zsYj7Yuaodbv",
        "outputId": "6ae3f225-6cc6-4917-c270-e74e428e1eb0",
        "colab": {
          "base_uri": "https://localhost:8080/",
          "height": 158
        }
      },
      "execution_count": null,
      "outputs": [
        {
          "output_type": "stream",
          "name": "stdout",
          "text": [
            "Drive already mounted at /content/drive; to attempt to forcibly remount, call drive.mount(\"/content/drive\", force_remount=True).\n",
            "Requirement already satisfied: xlsxwriter in /usr/local/lib/python3.10/dist-packages (3.2.0)\n"
          ]
        },
        {
          "output_type": "stream",
          "name": "stderr",
          "text": [
            "<ipython-input-3-91c66f320185>:56: FutureWarning: The behavior of DataFrame concatenation with empty or all-NA entries is deprecated. In a future version, this will no longer exclude empty or all-NA columns when determining the result dtypes. To retain the old behavior, exclude the relevant entries before the concat operation.\n",
            "  combined_df = pd.concat([combined_df, file_combined_df], ignore_index=True)\n",
            "<ipython-input-3-91c66f320185>:56: FutureWarning: The behavior of DataFrame concatenation with empty or all-NA entries is deprecated. In a future version, this will no longer exclude empty or all-NA columns when determining the result dtypes. To retain the old behavior, exclude the relevant entries before the concat operation.\n",
            "  combined_df = pd.concat([combined_df, file_combined_df], ignore_index=True)\n"
          ]
        },
        {
          "output_type": "display_data",
          "data": {
            "text/plain": [
              "<IPython.core.display.Javascript object>"
            ],
            "application/javascript": [
              "\n",
              "    async function download(id, filename, size) {\n",
              "      if (!google.colab.kernel.accessAllowed) {\n",
              "        return;\n",
              "      }\n",
              "      const div = document.createElement('div');\n",
              "      const label = document.createElement('label');\n",
              "      label.textContent = `Downloading \"${filename}\": `;\n",
              "      div.appendChild(label);\n",
              "      const progress = document.createElement('progress');\n",
              "      progress.max = size;\n",
              "      div.appendChild(progress);\n",
              "      document.body.appendChild(div);\n",
              "\n",
              "      const buffers = [];\n",
              "      let downloaded = 0;\n",
              "\n",
              "      const channel = await google.colab.kernel.comms.open(id);\n",
              "      // Send a message to notify the kernel that we're ready.\n",
              "      channel.send({})\n",
              "\n",
              "      for await (const message of channel.messages) {\n",
              "        // Send a message to notify the kernel that we're ready.\n",
              "        channel.send({})\n",
              "        if (message.buffers) {\n",
              "          for (const buffer of message.buffers) {\n",
              "            buffers.push(buffer);\n",
              "            downloaded += buffer.byteLength;\n",
              "            progress.value = downloaded;\n",
              "          }\n",
              "        }\n",
              "      }\n",
              "      const blob = new Blob(buffers, {type: 'application/binary'});\n",
              "      const a = document.createElement('a');\n",
              "      a.href = window.URL.createObjectURL(blob);\n",
              "      a.download = filename;\n",
              "      div.appendChild(a);\n",
              "      a.click();\n",
              "      div.remove();\n",
              "    }\n",
              "  "
            ]
          },
          "metadata": {}
        },
        {
          "output_type": "display_data",
          "data": {
            "text/plain": [
              "<IPython.core.display.Javascript object>"
            ],
            "application/javascript": [
              "download(\"download_3e4a6e8e-f421-44f1-967f-b1423920b053\", \"combined_KM_Content_Sep_2024.xlsx\", 3233781)"
            ]
          },
          "metadata": {}
        }
      ]
    },
    {
      "cell_type": "code",
      "source": [],
      "metadata": {
        "id": "wZXdr06pEn6a"
      },
      "execution_count": null,
      "outputs": []
    },
    {
      "cell_type": "markdown",
      "source": [
        "#Activity code"
      ],
      "metadata": {
        "id": "sz2rcjf0Kn9A"
      }
    },
    {
      "cell_type": "code",
      "source": [
        "# Step 1: Mount Google Drive\n",
        "from google.colab import drive\n",
        "drive.mount('/content/drive')\n",
        "\n",
        "# Step 2: Set the path to your folder in Google Drive\n",
        "import os\n",
        "import pandas as pd\n",
        "from datetime import datetime\n",
        "\n",
        "folder_path = '/content/drive/MyDrive/KM/Activity'  # Replace with your actual folder path\n",
        "\n",
        "# Install the missing module\n",
        "!pip install xlsxwriter\n",
        "\n",
        "# Step 3: Combine Excel files into one DataFrame\n",
        "combined_df = pd.DataFrame()  # Initialize an empty DataFrame\n",
        "\n",
        "files = os.listdir(folder_path)\n",
        "files.sort(key=lambda x: x.lower())\n",
        "\n",
        "for f_index, file_name in enumerate(files):\n",
        "    if file_name.endswith('.xlsx') or file_name.endswith('.xls'):\n",
        "        file_path = os.path.join(folder_path, file_name)\n",
        "\n",
        "        # Read the Excel file\n",
        "        df = pd.read_excel(file_path, header=None)\n",
        "\n",
        "        # Remove rows 1 to 4\n",
        "        df = df.iloc[4:].reset_index(drop=True)\n",
        "\n",
        "        # Set Row 0 as Header, then remove first row\n",
        "        df.columns = df.iloc[0]\n",
        "        df = df[1:]\n",
        "        df = df.reset_index(drop=True)\n",
        "\n",
        "        # Extract all columns except the last one, starting from the second column, as \"Period\"\n",
        "        df = df.iloc[:, :-1]\n",
        "\n",
        "        df = df.reset_index()\n",
        "        df['index'] = df['index'] + 1\n",
        "\n",
        "        df = pd.melt(df, id_vars=['index', 'Activity'], var_name='Period', value_name='Value')\n",
        "\n",
        "        # Extract \"KM\" from the original data before row removal\n",
        "        km = pd.read_excel(file_path, header=None).iloc[1, 0]\n",
        "        km_series = pd.Series([km] * len(df))\n",
        "\n",
        "        # Combine extracted data into a DataFrame\n",
        "        file_combined_df = pd.DataFrame({\n",
        "            'No': df['index'],   # Row number starting from 1\n",
        "            'Period': df['Period'],\n",
        "            'KM': km_series,\n",
        "            'Activity': df['Activity'],\n",
        "            'Number': df['Value']\n",
        "        })\n",
        "\n",
        "        # Concatenate to the main DataFrame\n",
        "        combined_df = pd.concat([combined_df, file_combined_df], ignore_index=True)\n",
        "\n",
        "# Get the current month and year for the file name\n",
        "current_month_year = datetime.now().strftime('%b_%Y')\n",
        "\n",
        "# Step 4: Save the combined DataFrame to an Excel file with the current month and year in the filename\n",
        "combined_file_path = f'/content/combined_KM_Activity_{current_month_year}.xlsx'\n",
        "combined_df.to_excel(combined_file_path, index=False)\n",
        "\n",
        "# Step 5: Provide a download link\n",
        "from google.colab import files\n",
        "files.download(combined_file_path)\n"
      ],
      "metadata": {
        "colab": {
          "base_uri": "https://localhost:8080/",
          "height": 52
        },
        "id": "0MvIqWSWqPcO",
        "outputId": "6d3823ba-128c-4cf0-86ac-c8135a99dbfc"
      },
      "execution_count": null,
      "outputs": [
        {
          "output_type": "stream",
          "name": "stdout",
          "text": [
            "Drive already mounted at /content/drive; to attempt to forcibly remount, call drive.mount(\"/content/drive\", force_remount=True).\n",
            "Requirement already satisfied: xlsxwriter in /usr/local/lib/python3.10/dist-packages (3.2.0)\n"
          ]
        },
        {
          "output_type": "display_data",
          "data": {
            "text/plain": [
              "<IPython.core.display.Javascript object>"
            ],
            "application/javascript": [
              "\n",
              "    async function download(id, filename, size) {\n",
              "      if (!google.colab.kernel.accessAllowed) {\n",
              "        return;\n",
              "      }\n",
              "      const div = document.createElement('div');\n",
              "      const label = document.createElement('label');\n",
              "      label.textContent = `Downloading \"${filename}\": `;\n",
              "      div.appendChild(label);\n",
              "      const progress = document.createElement('progress');\n",
              "      progress.max = size;\n",
              "      div.appendChild(progress);\n",
              "      document.body.appendChild(div);\n",
              "\n",
              "      const buffers = [];\n",
              "      let downloaded = 0;\n",
              "\n",
              "      const channel = await google.colab.kernel.comms.open(id);\n",
              "      // Send a message to notify the kernel that we're ready.\n",
              "      channel.send({})\n",
              "\n",
              "      for await (const message of channel.messages) {\n",
              "        // Send a message to notify the kernel that we're ready.\n",
              "        channel.send({})\n",
              "        if (message.buffers) {\n",
              "          for (const buffer of message.buffers) {\n",
              "            buffers.push(buffer);\n",
              "            downloaded += buffer.byteLength;\n",
              "            progress.value = downloaded;\n",
              "          }\n",
              "        }\n",
              "      }\n",
              "      const blob = new Blob(buffers, {type: 'application/binary'});\n",
              "      const a = document.createElement('a');\n",
              "      a.href = window.URL.createObjectURL(blob);\n",
              "      a.download = filename;\n",
              "      div.appendChild(a);\n",
              "      a.click();\n",
              "      div.remove();\n",
              "    }\n",
              "  "
            ]
          },
          "metadata": {}
        },
        {
          "output_type": "display_data",
          "data": {
            "text/plain": [
              "<IPython.core.display.Javascript object>"
            ],
            "application/javascript": [
              "download(\"download_086b4988-3331-4cf1-9141-a1a179a136b8\", \"combined_KM_Activity_Sep_2024.xlsx\", 22001)"
            ]
          },
          "metadata": {}
        }
      ]
    },
    {
      "cell_type": "markdown",
      "source": [
        "# KM_BU"
      ],
      "metadata": {
        "id": "xMQwOvMUO_AY"
      }
    },
    {
      "cell_type": "markdown",
      "source": [
        "## 1.Tem_membership_active user"
      ],
      "metadata": {
        "id": "QxgluOMn2Wvm"
      }
    },
    {
      "cell_type": "code",
      "source": [
        "# Step 1: Mount Google Drive\n",
        "from google.colab import drive\n",
        "drive.mount('/content/drive')\n",
        "\n",
        "# Step 2: Set the path to your folder in Google Drive\n",
        "import os\n",
        "import pandas as pd\n",
        "from datetime import datetime\n",
        "\n",
        "folder_path = '/content/drive/MyDrive/KM/KM_BU'  # Replace with your actual folder path\n",
        "\n",
        "# Step 3: Combine Excel files into one DataFrame\n",
        "combined_df = pd.DataFrame()  # Initialize an empty DataFrame\n",
        "\n",
        "files = os.listdir(folder_path)\n",
        "files.sort(key=lambda x: x.lower())\n",
        "\n",
        "# Get the current month and year\n",
        "current_period = datetime.now().strftime('%b-%Y')\n",
        "\n",
        "for file_name in files:\n",
        "    if file_name.endswith('.xlsx') or file_name.endswith('.xls'):\n",
        "        file_path = os.path.join(folder_path, file_name)\n",
        "\n",
        "        # Read only the specific sheet\n",
        "        df = pd.read_excel(file_path, sheet_name='1.Tem_membership_active user', header=None)\n",
        "\n",
        "        # Extract data according to your specifications\n",
        "        km_unit = df.iloc[4, 1:6].dropna().values\n",
        "        membership = df.iloc[7, 1:3].dropna().values\n",
        "        active_user = df.iloc[10, 1:3].dropna().values\n",
        "\n",
        "        # Ensure all extracted data has the same length\n",
        "        max_length = max(len(km_unit), len(membership), len(active_user))\n",
        "\n",
        "        km_unit = list(km_unit) + [None] * (max_length - len(km_unit))\n",
        "        membership = list(membership) + [None] * (max_length - len(membership))\n",
        "        active_user = list(active_user) + [None] * (max_length - len(active_user))\n",
        "\n",
        "        # Create a DataFrame from the extracted data\n",
        "        file_combined_df = pd.DataFrame({\n",
        "            'Period': [current_period] * len(km_unit),  # Ensure 'Period' matches 'KM_Unit' rows\n",
        "            'KM_Unit': km_unit,\n",
        "            'Membership': membership,\n",
        "            'Active User': active_user\n",
        "        })\n",
        "\n",
        "        # Concatenate to the main DataFrame\n",
        "        combined_df = pd.concat([combined_df, file_combined_df], ignore_index=True)\n",
        "\n",
        "# Get the current month and year for the file name\n",
        "current_month_year = datetime.now().strftime('%b_%Y')\n",
        "\n",
        "# Step 4: Save the combined DataFrame to an Excel file with the current month and year in the filename\n",
        "combined_file_path = f'/content/combined_KM_BU_membership_active_user_{current_month_year}.xlsx'\n",
        "combined_df.to_excel(combined_file_path, index=False)\n",
        "\n",
        "# Step 5: Provide a download link\n",
        "from google.colab import files\n",
        "files.download(combined_file_path)\n"
      ],
      "metadata": {
        "colab": {
          "base_uri": "https://localhost:8080/",
          "height": 34
        },
        "id": "_CB-JbgordsQ",
        "outputId": "d00ab36b-2665-4190-d9ce-cbdd7e909ee6"
      },
      "execution_count": null,
      "outputs": [
        {
          "output_type": "stream",
          "name": "stdout",
          "text": [
            "Drive already mounted at /content/drive; to attempt to forcibly remount, call drive.mount(\"/content/drive\", force_remount=True).\n"
          ]
        },
        {
          "output_type": "display_data",
          "data": {
            "text/plain": [
              "<IPython.core.display.Javascript object>"
            ],
            "application/javascript": [
              "\n",
              "    async function download(id, filename, size) {\n",
              "      if (!google.colab.kernel.accessAllowed) {\n",
              "        return;\n",
              "      }\n",
              "      const div = document.createElement('div');\n",
              "      const label = document.createElement('label');\n",
              "      label.textContent = `Downloading \"${filename}\": `;\n",
              "      div.appendChild(label);\n",
              "      const progress = document.createElement('progress');\n",
              "      progress.max = size;\n",
              "      div.appendChild(progress);\n",
              "      document.body.appendChild(div);\n",
              "\n",
              "      const buffers = [];\n",
              "      let downloaded = 0;\n",
              "\n",
              "      const channel = await google.colab.kernel.comms.open(id);\n",
              "      // Send a message to notify the kernel that we're ready.\n",
              "      channel.send({})\n",
              "\n",
              "      for await (const message of channel.messages) {\n",
              "        // Send a message to notify the kernel that we're ready.\n",
              "        channel.send({})\n",
              "        if (message.buffers) {\n",
              "          for (const buffer of message.buffers) {\n",
              "            buffers.push(buffer);\n",
              "            downloaded += buffer.byteLength;\n",
              "            progress.value = downloaded;\n",
              "          }\n",
              "        }\n",
              "      }\n",
              "      const blob = new Blob(buffers, {type: 'application/binary'});\n",
              "      const a = document.createElement('a');\n",
              "      a.href = window.URL.createObjectURL(blob);\n",
              "      a.download = filename;\n",
              "      div.appendChild(a);\n",
              "      a.click();\n",
              "      div.remove();\n",
              "    }\n",
              "  "
            ]
          },
          "metadata": {}
        },
        {
          "output_type": "display_data",
          "data": {
            "text/plain": [
              "<IPython.core.display.Javascript object>"
            ],
            "application/javascript": [
              "download(\"download_e8ab9600-f065-4d39-b5d0-db493ae4ed25\", \"combined_KM_BU_membership_active_user_Sep_2024.xlsx\", 6257)"
            ]
          },
          "metadata": {}
        }
      ]
    },
    {
      "cell_type": "markdown",
      "source": [
        "## 2.Tem_Digital Manual"
      ],
      "metadata": {
        "id": "MhT9fVw378nq"
      }
    },
    {
      "cell_type": "code",
      "source": [
        "# Step 1: Mount Google Drive\n",
        "from google.colab import drive\n",
        "drive.mount('/content/drive')\n",
        "\n",
        "# Step 2: Set the path to your folder in Google Drive\n",
        "import os\n",
        "import pandas as pd\n",
        "from datetime import datetime\n",
        "\n",
        "# Replace with your actual folder path\n",
        "folder_path = '/content/drive/MyDrive/KM/KM_BU'\n",
        "\n",
        "# Step 3: Initialize an empty DataFrame to combine all the files\n",
        "combined_df = pd.DataFrame()\n",
        "\n",
        "# Sort files alphabetically for consistent processing\n",
        "files = os.listdir(folder_path)\n",
        "files.sort(key=lambda x: x.lower())\n",
        "\n",
        "# Get the current month and year\n",
        "current_period = datetime.now().strftime('%b-%Y')\n",
        "\n",
        "for file_name in files:\n",
        "    if file_name.endswith('.xlsx') or file_name.endswith('.xls'):\n",
        "        file_path = os.path.join(folder_path, file_name)\n",
        "\n",
        "        # Read only the specific sheet\n",
        "        df = pd.read_excel(file_path, sheet_name='2.Tem_Digital Manual', header=None)\n",
        "\n",
        "        # Extract relevant data\n",
        "        km_unit = df.iloc[2, 10]  # Row 3, Column K (zero-indexed as 2, 10)\n",
        "        manual_names = df.iloc[4:, 9].dropna()  # From Row 5 onward, Column J (drop empty rows)\n",
        "        engagements = df.iloc[4:, 10].dropna()  # From Row 5 onward, Column K (drop empty rows)\n",
        "\n",
        "        # Only process files where there is data in both columns\n",
        "        if not manual_names.empty and not engagements.empty:\n",
        "            # Create a DataFrame from the extracted data\n",
        "            file_combined_df = pd.DataFrame({\n",
        "                'Period': [current_period] * len(manual_names),  # Match the length of 'manual_names'\n",
        "                'KM_UNIT': km_unit,\n",
        "                'Manual_name': manual_names.values,\n",
        "                'Strategic_Digital_Manual_Engagement': engagements.values\n",
        "            })\n",
        "\n",
        "            # Concatenate the file-specific DataFrame to the main DataFrame\n",
        "            combined_df = pd.concat([combined_df, file_combined_df], ignore_index=True)\n",
        "\n",
        "# Get the current month and year for the file name\n",
        "current_month_year = datetime.now().strftime('%b_%Y')\n",
        "\n",
        "# Step 4: Save the combined DataFrame to an Excel file with the current month and year in the filename\n",
        "combined_file_path = f'/content/combined_KM_BU_Digital_Manual_{current_month_year}.xlsx'\n",
        "combined_df.to_excel(combined_file_path, index=False)\n",
        "\n",
        "# Step 5: Provide a download link\n",
        "from google.colab import files\n",
        "files.download(combined_file_path)\n"
      ],
      "metadata": {
        "colab": {
          "base_uri": "https://localhost:8080/",
          "height": 729
        },
        "id": "9uGIbjeLsaEb",
        "outputId": "bfc8c251-812c-443f-cec9-846b32420e37"
      },
      "execution_count": null,
      "outputs": [
        {
          "output_type": "stream",
          "name": "stdout",
          "text": [
            "Drive already mounted at /content/drive; to attempt to forcibly remount, call drive.mount(\"/content/drive\", force_remount=True).\n"
          ]
        },
        {
          "output_type": "stream",
          "name": "stderr",
          "text": [
            "/usr/local/lib/python3.10/dist-packages/openpyxl/worksheet/_reader.py:329: UserWarning: Data Validation extension is not supported and will be removed\n",
            "  warn(msg)\n",
            "/usr/local/lib/python3.10/dist-packages/openpyxl/worksheet/_reader.py:329: UserWarning: Data Validation extension is not supported and will be removed\n",
            "  warn(msg)\n",
            "/usr/local/lib/python3.10/dist-packages/openpyxl/worksheet/_reader.py:329: UserWarning: Data Validation extension is not supported and will be removed\n",
            "  warn(msg)\n",
            "/usr/local/lib/python3.10/dist-packages/openpyxl/worksheet/_reader.py:329: UserWarning: Data Validation extension is not supported and will be removed\n",
            "  warn(msg)\n",
            "/usr/local/lib/python3.10/dist-packages/openpyxl/worksheet/_reader.py:329: UserWarning: Data Validation extension is not supported and will be removed\n",
            "  warn(msg)\n",
            "/usr/local/lib/python3.10/dist-packages/openpyxl/worksheet/_reader.py:329: UserWarning: Data Validation extension is not supported and will be removed\n",
            "  warn(msg)\n",
            "/usr/local/lib/python3.10/dist-packages/openpyxl/worksheet/_reader.py:329: UserWarning: Data Validation extension is not supported and will be removed\n",
            "  warn(msg)\n",
            "/usr/local/lib/python3.10/dist-packages/openpyxl/worksheet/_reader.py:329: UserWarning: Data Validation extension is not supported and will be removed\n",
            "  warn(msg)\n",
            "/usr/local/lib/python3.10/dist-packages/openpyxl/worksheet/_reader.py:329: UserWarning: Data Validation extension is not supported and will be removed\n",
            "  warn(msg)\n",
            "/usr/local/lib/python3.10/dist-packages/openpyxl/worksheet/_reader.py:329: UserWarning: Data Validation extension is not supported and will be removed\n",
            "  warn(msg)\n",
            "/usr/local/lib/python3.10/dist-packages/openpyxl/worksheet/_reader.py:329: UserWarning: Data Validation extension is not supported and will be removed\n",
            "  warn(msg)\n",
            "/usr/local/lib/python3.10/dist-packages/openpyxl/worksheet/_reader.py:329: UserWarning: Data Validation extension is not supported and will be removed\n",
            "  warn(msg)\n",
            "/usr/local/lib/python3.10/dist-packages/openpyxl/worksheet/_reader.py:329: UserWarning: Data Validation extension is not supported and will be removed\n",
            "  warn(msg)\n",
            "/usr/local/lib/python3.10/dist-packages/openpyxl/worksheet/_reader.py:329: UserWarning: Data Validation extension is not supported and will be removed\n",
            "  warn(msg)\n",
            "/usr/local/lib/python3.10/dist-packages/openpyxl/worksheet/_reader.py:329: UserWarning: Data Validation extension is not supported and will be removed\n",
            "  warn(msg)\n",
            "/usr/local/lib/python3.10/dist-packages/openpyxl/worksheet/_reader.py:329: UserWarning: Data Validation extension is not supported and will be removed\n",
            "  warn(msg)\n",
            "/usr/local/lib/python3.10/dist-packages/openpyxl/worksheet/_reader.py:329: UserWarning: Data Validation extension is not supported and will be removed\n",
            "  warn(msg)\n",
            "/usr/local/lib/python3.10/dist-packages/openpyxl/worksheet/_reader.py:329: UserWarning: Data Validation extension is not supported and will be removed\n",
            "  warn(msg)\n",
            "/usr/local/lib/python3.10/dist-packages/openpyxl/worksheet/_reader.py:329: UserWarning: Data Validation extension is not supported and will be removed\n",
            "  warn(msg)\n",
            "/usr/local/lib/python3.10/dist-packages/openpyxl/worksheet/_reader.py:329: UserWarning: Data Validation extension is not supported and will be removed\n",
            "  warn(msg)\n"
          ]
        },
        {
          "output_type": "display_data",
          "data": {
            "text/plain": [
              "<IPython.core.display.Javascript object>"
            ],
            "application/javascript": [
              "\n",
              "    async function download(id, filename, size) {\n",
              "      if (!google.colab.kernel.accessAllowed) {\n",
              "        return;\n",
              "      }\n",
              "      const div = document.createElement('div');\n",
              "      const label = document.createElement('label');\n",
              "      label.textContent = `Downloading \"${filename}\": `;\n",
              "      div.appendChild(label);\n",
              "      const progress = document.createElement('progress');\n",
              "      progress.max = size;\n",
              "      div.appendChild(progress);\n",
              "      document.body.appendChild(div);\n",
              "\n",
              "      const buffers = [];\n",
              "      let downloaded = 0;\n",
              "\n",
              "      const channel = await google.colab.kernel.comms.open(id);\n",
              "      // Send a message to notify the kernel that we're ready.\n",
              "      channel.send({})\n",
              "\n",
              "      for await (const message of channel.messages) {\n",
              "        // Send a message to notify the kernel that we're ready.\n",
              "        channel.send({})\n",
              "        if (message.buffers) {\n",
              "          for (const buffer of message.buffers) {\n",
              "            buffers.push(buffer);\n",
              "            downloaded += buffer.byteLength;\n",
              "            progress.value = downloaded;\n",
              "          }\n",
              "        }\n",
              "      }\n",
              "      const blob = new Blob(buffers, {type: 'application/binary'});\n",
              "      const a = document.createElement('a');\n",
              "      a.href = window.URL.createObjectURL(blob);\n",
              "      a.download = filename;\n",
              "      div.appendChild(a);\n",
              "      a.click();\n",
              "      div.remove();\n",
              "    }\n",
              "  "
            ]
          },
          "metadata": {}
        },
        {
          "output_type": "display_data",
          "data": {
            "text/plain": [
              "<IPython.core.display.Javascript object>"
            ],
            "application/javascript": [
              "download(\"download_2b6df093-6782-40f4-83b7-ca171d61418c\", \"combined_KM_BU_Digital_Manual_Sep_2024.xlsx\", 6276)"
            ]
          },
          "metadata": {}
        }
      ]
    },
    {
      "cell_type": "markdown",
      "source": [
        "## 3.Tem_Synergy&Collaboration"
      ],
      "metadata": {
        "id": "8zPcadeTK0Vr"
      }
    },
    {
      "cell_type": "code",
      "source": [
        "# Step 1: Mount Google Drive\n",
        "from google.colab import drive\n",
        "drive.mount('/content/drive')\n",
        "\n",
        "# Step 2: Set the path to your folder in Google Drive\n",
        "import os\n",
        "import pandas as pd\n",
        "from datetime import datetime\n",
        "\n",
        "# Replace with your actual folder path\n",
        "folder_path = '/content/drive/MyDrive/KM/KM_BU'\n",
        "\n",
        "# Step 3: Initialize an empty DataFrame to combine all the files\n",
        "combined_df = pd.DataFrame()\n",
        "\n",
        "# Sort files alphabetically for consistent processing\n",
        "files = os.listdir(folder_path)\n",
        "files.sort(key=lambda x: x.lower())\n",
        "\n",
        "# Get the current month and year\n",
        "current_period = datetime.now().strftime('%b-%Y')\n",
        "\n",
        "for file_name in files:\n",
        "    if file_name.endswith('.xlsx') or file_name.endswith('.xls'):\n",
        "        file_path = os.path.join(folder_path, file_name)\n",
        "\n",
        "        # Read only the specific sheet\n",
        "        df = pd.read_excel(file_path, sheet_name='3.Tem_Synergy&Collaboration', header=None)\n",
        "\n",
        "        # Extract relevant data\n",
        "        km_unit = df.iloc[2, 9]  # Row 3, Column J (zero-indexed as 2, 9)\n",
        "        project_names = df.iloc[7:, 9].dropna()  # From Row 8 onward, Column J\n",
        "        project_objectives = df.iloc[7:, 10].reindex(project_names.index).values  # From Row 8 onward, Column K\n",
        "        project_success_personnel = df.iloc[7:, 11].reindex(project_names.index).values  # From Row 8 onward, Column L\n",
        "        project_success_partners = df.iloc[7:, 12].reindex(project_names.index).values  # From Row 8 onward, Column M\n",
        "        project_success_public = df.iloc[7:, 13].reindex(project_names.index).values  # From Row 8 onward, Column N\n",
        "        project_success_affected_people_count = df.iloc[7:, 14].fillna(0).replace('-', 0).reindex(project_names.index).values  # From Row 8 onward, Column O\n",
        "\n",
        "        # Columns P, Q, R, S with condition for missing data or '-'\n",
        "        internal_synergy_cost_reduction_mb = df.iloc[7:, 15].fillna(0).replace('-', 0).reindex(project_names.index).values  # From Row 8 onward, Column P\n",
        "        internal_synergy_revenue_increase_mb = df.iloc[7:, 16].fillna(0).replace('-', 0).reindex(project_names.index).values  # From Row 8 onward, Column Q\n",
        "        external_synergy_cost_reduction_mb = df.iloc[7:, 17].fillna(0).replace('-', 0).reindex(project_names.index).values  # From Row 8 onward, Column R\n",
        "        external_synergy_revenue_increase_mb = df.iloc[7:, 18].fillna(0).replace('-', 0).reindex(project_names.index).values  # From Row 8 onward, Column S\n",
        "\n",
        "        # Only process files where there is data in the project name column\n",
        "        if not project_names.empty:\n",
        "            # Create a DataFrame from the extracted data\n",
        "            file_combined_df = pd.DataFrame({\n",
        "                'Period': [current_period] * len(project_names),\n",
        "                'KM_UNIT': [km_unit] * len(project_names),\n",
        "                'project_name': project_names.values,\n",
        "                'project_objectives': project_objectives,\n",
        "                'project_success_personnel': project_success_personnel,\n",
        "                'project_success_partners': project_success_partners,\n",
        "                'project_success_public': project_success_public,\n",
        "                'project_success_affected_people_count': project_success_affected_people_count,\n",
        "                'internal_synergy_cost_reduction_mb': internal_synergy_cost_reduction_mb,\n",
        "                'internal_synergy_revenue_increase_mb': internal_synergy_revenue_increase_mb,\n",
        "                'external_synergy_cost_reduction_mb': external_synergy_cost_reduction_mb,\n",
        "                'external_synergy_revenue_increase_mb': external_synergy_revenue_increase_mb\n",
        "            })\n",
        "\n",
        "            # Concatenate the file-specific DataFrame to the main DataFrame\n",
        "            combined_df = pd.concat([combined_df, file_combined_df], ignore_index=True)\n",
        "\n",
        "# Get the current month and year for the file name\n",
        "current_month_year = datetime.now().strftime('%b_%Y')\n",
        "\n",
        "# Step 4: Save the combined DataFrame to an Excel file with the current month and year in the filename\n",
        "combined_file_path = f'/content/combined_KM_BU_Synergy_Collaboration_{current_month_year}.xlsx'\n",
        "combined_df.to_excel(combined_file_path, index=False)\n",
        "\n",
        "# Step 5: Provide a download link\n",
        "from google.colab import files\n",
        "files.download(combined_file_path)\n"
      ],
      "metadata": {
        "colab": {
          "base_uri": "https://localhost:8080/",
          "height": 729
        },
        "id": "ebtcO3h_ucpV",
        "outputId": "fb596bd7-2ce5-4bd6-b25a-2d83b4f0dce1"
      },
      "execution_count": null,
      "outputs": [
        {
          "output_type": "stream",
          "name": "stdout",
          "text": [
            "Drive already mounted at /content/drive; to attempt to forcibly remount, call drive.mount(\"/content/drive\", force_remount=True).\n"
          ]
        },
        {
          "output_type": "stream",
          "name": "stderr",
          "text": [
            "/usr/local/lib/python3.10/dist-packages/openpyxl/worksheet/_reader.py:329: UserWarning: Data Validation extension is not supported and will be removed\n",
            "  warn(msg)\n",
            "/usr/local/lib/python3.10/dist-packages/openpyxl/worksheet/_reader.py:329: UserWarning: Data Validation extension is not supported and will be removed\n",
            "  warn(msg)\n",
            "/usr/local/lib/python3.10/dist-packages/openpyxl/worksheet/_reader.py:329: UserWarning: Data Validation extension is not supported and will be removed\n",
            "  warn(msg)\n",
            "/usr/local/lib/python3.10/dist-packages/openpyxl/worksheet/_reader.py:329: UserWarning: Data Validation extension is not supported and will be removed\n",
            "  warn(msg)\n",
            "/usr/local/lib/python3.10/dist-packages/openpyxl/worksheet/_reader.py:329: UserWarning: Data Validation extension is not supported and will be removed\n",
            "  warn(msg)\n",
            "/usr/local/lib/python3.10/dist-packages/openpyxl/worksheet/_reader.py:329: UserWarning: Data Validation extension is not supported and will be removed\n",
            "  warn(msg)\n",
            "/usr/local/lib/python3.10/dist-packages/openpyxl/worksheet/_reader.py:329: UserWarning: Data Validation extension is not supported and will be removed\n",
            "  warn(msg)\n",
            "/usr/local/lib/python3.10/dist-packages/openpyxl/worksheet/_reader.py:329: UserWarning: Data Validation extension is not supported and will be removed\n",
            "  warn(msg)\n",
            "/usr/local/lib/python3.10/dist-packages/openpyxl/worksheet/_reader.py:329: UserWarning: Data Validation extension is not supported and will be removed\n",
            "  warn(msg)\n",
            "/usr/local/lib/python3.10/dist-packages/openpyxl/worksheet/_reader.py:329: UserWarning: Data Validation extension is not supported and will be removed\n",
            "  warn(msg)\n",
            "/usr/local/lib/python3.10/dist-packages/openpyxl/worksheet/_reader.py:329: UserWarning: Data Validation extension is not supported and will be removed\n",
            "  warn(msg)\n",
            "/usr/local/lib/python3.10/dist-packages/openpyxl/worksheet/_reader.py:329: UserWarning: Data Validation extension is not supported and will be removed\n",
            "  warn(msg)\n",
            "/usr/local/lib/python3.10/dist-packages/openpyxl/worksheet/_reader.py:329: UserWarning: Data Validation extension is not supported and will be removed\n",
            "  warn(msg)\n",
            "/usr/local/lib/python3.10/dist-packages/openpyxl/worksheet/_reader.py:329: UserWarning: Data Validation extension is not supported and will be removed\n",
            "  warn(msg)\n",
            "/usr/local/lib/python3.10/dist-packages/openpyxl/worksheet/_reader.py:329: UserWarning: Data Validation extension is not supported and will be removed\n",
            "  warn(msg)\n",
            "/usr/local/lib/python3.10/dist-packages/openpyxl/worksheet/_reader.py:329: UserWarning: Data Validation extension is not supported and will be removed\n",
            "  warn(msg)\n",
            "/usr/local/lib/python3.10/dist-packages/openpyxl/worksheet/_reader.py:329: UserWarning: Data Validation extension is not supported and will be removed\n",
            "  warn(msg)\n",
            "/usr/local/lib/python3.10/dist-packages/openpyxl/worksheet/_reader.py:329: UserWarning: Data Validation extension is not supported and will be removed\n",
            "  warn(msg)\n",
            "/usr/local/lib/python3.10/dist-packages/openpyxl/worksheet/_reader.py:329: UserWarning: Data Validation extension is not supported and will be removed\n",
            "  warn(msg)\n",
            "/usr/local/lib/python3.10/dist-packages/openpyxl/worksheet/_reader.py:329: UserWarning: Data Validation extension is not supported and will be removed\n",
            "  warn(msg)\n"
          ]
        },
        {
          "output_type": "display_data",
          "data": {
            "text/plain": [
              "<IPython.core.display.Javascript object>"
            ],
            "application/javascript": [
              "\n",
              "    async function download(id, filename, size) {\n",
              "      if (!google.colab.kernel.accessAllowed) {\n",
              "        return;\n",
              "      }\n",
              "      const div = document.createElement('div');\n",
              "      const label = document.createElement('label');\n",
              "      label.textContent = `Downloading \"${filename}\": `;\n",
              "      div.appendChild(label);\n",
              "      const progress = document.createElement('progress');\n",
              "      progress.max = size;\n",
              "      div.appendChild(progress);\n",
              "      document.body.appendChild(div);\n",
              "\n",
              "      const buffers = [];\n",
              "      let downloaded = 0;\n",
              "\n",
              "      const channel = await google.colab.kernel.comms.open(id);\n",
              "      // Send a message to notify the kernel that we're ready.\n",
              "      channel.send({})\n",
              "\n",
              "      for await (const message of channel.messages) {\n",
              "        // Send a message to notify the kernel that we're ready.\n",
              "        channel.send({})\n",
              "        if (message.buffers) {\n",
              "          for (const buffer of message.buffers) {\n",
              "            buffers.push(buffer);\n",
              "            downloaded += buffer.byteLength;\n",
              "            progress.value = downloaded;\n",
              "          }\n",
              "        }\n",
              "      }\n",
              "      const blob = new Blob(buffers, {type: 'application/binary'});\n",
              "      const a = document.createElement('a');\n",
              "      a.href = window.URL.createObjectURL(blob);\n",
              "      a.download = filename;\n",
              "      div.appendChild(a);\n",
              "      a.click();\n",
              "      div.remove();\n",
              "    }\n",
              "  "
            ]
          },
          "metadata": {}
        },
        {
          "output_type": "display_data",
          "data": {
            "text/plain": [
              "<IPython.core.display.Javascript object>"
            ],
            "application/javascript": [
              "download(\"download_561a664e-3ccf-4b25-9d22-314695b782ab\", \"combined_KM_BU_Synergy_Collaboration_Sep_2024.xlsx\", 7482)"
            ]
          },
          "metadata": {}
        }
      ]
    },
    {
      "cell_type": "markdown",
      "source": [
        "#upload"
      ],
      "metadata": {
        "id": "jA3lB58MHR5i"
      }
    },
    {
      "cell_type": "code",
      "source": [
        "from google.colab import files\n",
        "uploaded = files.upload()  # This will open a file dialog for uploading files\n"
      ],
      "metadata": {
        "colab": {
          "base_uri": "https://localhost:8080/",
          "height": 325
        },
        "id": "IQx-CJyvHWI3",
        "outputId": "b6da2e6a-977a-41ee-d5c4-c7035eb16e61"
      },
      "execution_count": null,
      "outputs": [
        {
          "output_type": "display_data",
          "data": {
            "text/plain": [
              "<IPython.core.display.HTML object>"
            ],
            "text/html": [
              "\n",
              "     <input type=\"file\" id=\"files-f2f7c388-6249-45db-8b1d-a107691514da\" name=\"files[]\" multiple disabled\n",
              "        style=\"border:none\" />\n",
              "     <output id=\"result-f2f7c388-6249-45db-8b1d-a107691514da\">\n",
              "      Upload widget is only available when the cell has been executed in the\n",
              "      current browser session. Please rerun this cell to enable.\n",
              "      </output>\n",
              "      <script>// Copyright 2017 Google LLC\n",
              "//\n",
              "// Licensed under the Apache License, Version 2.0 (the \"License\");\n",
              "// you may not use this file except in compliance with the License.\n",
              "// You may obtain a copy of the License at\n",
              "//\n",
              "//      http://www.apache.org/licenses/LICENSE-2.0\n",
              "//\n",
              "// Unless required by applicable law or agreed to in writing, software\n",
              "// distributed under the License is distributed on an \"AS IS\" BASIS,\n",
              "// WITHOUT WARRANTIES OR CONDITIONS OF ANY KIND, either express or implied.\n",
              "// See the License for the specific language governing permissions and\n",
              "// limitations under the License.\n",
              "\n",
              "/**\n",
              " * @fileoverview Helpers for google.colab Python module.\n",
              " */\n",
              "(function(scope) {\n",
              "function span(text, styleAttributes = {}) {\n",
              "  const element = document.createElement('span');\n",
              "  element.textContent = text;\n",
              "  for (const key of Object.keys(styleAttributes)) {\n",
              "    element.style[key] = styleAttributes[key];\n",
              "  }\n",
              "  return element;\n",
              "}\n",
              "\n",
              "// Max number of bytes which will be uploaded at a time.\n",
              "const MAX_PAYLOAD_SIZE = 100 * 1024;\n",
              "\n",
              "function _uploadFiles(inputId, outputId) {\n",
              "  const steps = uploadFilesStep(inputId, outputId);\n",
              "  const outputElement = document.getElementById(outputId);\n",
              "  // Cache steps on the outputElement to make it available for the next call\n",
              "  // to uploadFilesContinue from Python.\n",
              "  outputElement.steps = steps;\n",
              "\n",
              "  return _uploadFilesContinue(outputId);\n",
              "}\n",
              "\n",
              "// This is roughly an async generator (not supported in the browser yet),\n",
              "// where there are multiple asynchronous steps and the Python side is going\n",
              "// to poll for completion of each step.\n",
              "// This uses a Promise to block the python side on completion of each step,\n",
              "// then passes the result of the previous step as the input to the next step.\n",
              "function _uploadFilesContinue(outputId) {\n",
              "  const outputElement = document.getElementById(outputId);\n",
              "  const steps = outputElement.steps;\n",
              "\n",
              "  const next = steps.next(outputElement.lastPromiseValue);\n",
              "  return Promise.resolve(next.value.promise).then((value) => {\n",
              "    // Cache the last promise value to make it available to the next\n",
              "    // step of the generator.\n",
              "    outputElement.lastPromiseValue = value;\n",
              "    return next.value.response;\n",
              "  });\n",
              "}\n",
              "\n",
              "/**\n",
              " * Generator function which is called between each async step of the upload\n",
              " * process.\n",
              " * @param {string} inputId Element ID of the input file picker element.\n",
              " * @param {string} outputId Element ID of the output display.\n",
              " * @return {!Iterable<!Object>} Iterable of next steps.\n",
              " */\n",
              "function* uploadFilesStep(inputId, outputId) {\n",
              "  const inputElement = document.getElementById(inputId);\n",
              "  inputElement.disabled = false;\n",
              "\n",
              "  const outputElement = document.getElementById(outputId);\n",
              "  outputElement.innerHTML = '';\n",
              "\n",
              "  const pickedPromise = new Promise((resolve) => {\n",
              "    inputElement.addEventListener('change', (e) => {\n",
              "      resolve(e.target.files);\n",
              "    });\n",
              "  });\n",
              "\n",
              "  const cancel = document.createElement('button');\n",
              "  inputElement.parentElement.appendChild(cancel);\n",
              "  cancel.textContent = 'Cancel upload';\n",
              "  const cancelPromise = new Promise((resolve) => {\n",
              "    cancel.onclick = () => {\n",
              "      resolve(null);\n",
              "    };\n",
              "  });\n",
              "\n",
              "  // Wait for the user to pick the files.\n",
              "  const files = yield {\n",
              "    promise: Promise.race([pickedPromise, cancelPromise]),\n",
              "    response: {\n",
              "      action: 'starting',\n",
              "    }\n",
              "  };\n",
              "\n",
              "  cancel.remove();\n",
              "\n",
              "  // Disable the input element since further picks are not allowed.\n",
              "  inputElement.disabled = true;\n",
              "\n",
              "  if (!files) {\n",
              "    return {\n",
              "      response: {\n",
              "        action: 'complete',\n",
              "      }\n",
              "    };\n",
              "  }\n",
              "\n",
              "  for (const file of files) {\n",
              "    const li = document.createElement('li');\n",
              "    li.append(span(file.name, {fontWeight: 'bold'}));\n",
              "    li.append(span(\n",
              "        `(${file.type || 'n/a'}) - ${file.size} bytes, ` +\n",
              "        `last modified: ${\n",
              "            file.lastModifiedDate ? file.lastModifiedDate.toLocaleDateString() :\n",
              "                                    'n/a'} - `));\n",
              "    const percent = span('0% done');\n",
              "    li.appendChild(percent);\n",
              "\n",
              "    outputElement.appendChild(li);\n",
              "\n",
              "    const fileDataPromise = new Promise((resolve) => {\n",
              "      const reader = new FileReader();\n",
              "      reader.onload = (e) => {\n",
              "        resolve(e.target.result);\n",
              "      };\n",
              "      reader.readAsArrayBuffer(file);\n",
              "    });\n",
              "    // Wait for the data to be ready.\n",
              "    let fileData = yield {\n",
              "      promise: fileDataPromise,\n",
              "      response: {\n",
              "        action: 'continue',\n",
              "      }\n",
              "    };\n",
              "\n",
              "    // Use a chunked sending to avoid message size limits. See b/62115660.\n",
              "    let position = 0;\n",
              "    do {\n",
              "      const length = Math.min(fileData.byteLength - position, MAX_PAYLOAD_SIZE);\n",
              "      const chunk = new Uint8Array(fileData, position, length);\n",
              "      position += length;\n",
              "\n",
              "      const base64 = btoa(String.fromCharCode.apply(null, chunk));\n",
              "      yield {\n",
              "        response: {\n",
              "          action: 'append',\n",
              "          file: file.name,\n",
              "          data: base64,\n",
              "        },\n",
              "      };\n",
              "\n",
              "      let percentDone = fileData.byteLength === 0 ?\n",
              "          100 :\n",
              "          Math.round((position / fileData.byteLength) * 100);\n",
              "      percent.textContent = `${percentDone}% done`;\n",
              "\n",
              "    } while (position < fileData.byteLength);\n",
              "  }\n",
              "\n",
              "  // All done.\n",
              "  yield {\n",
              "    response: {\n",
              "      action: 'complete',\n",
              "    }\n",
              "  };\n",
              "}\n",
              "\n",
              "scope.google = scope.google || {};\n",
              "scope.google.colab = scope.google.colab || {};\n",
              "scope.google.colab._files = {\n",
              "  _uploadFiles,\n",
              "  _uploadFilesContinue,\n",
              "};\n",
              "})(self);\n",
              "</script> "
            ]
          },
          "metadata": {}
        },
        {
          "output_type": "error",
          "ename": "KeyboardInterrupt",
          "evalue": "",
          "traceback": [
            "\u001b[0;31m---------------------------------------------------------------------------\u001b[0m",
            "\u001b[0;31mKeyboardInterrupt\u001b[0m                         Traceback (most recent call last)",
            "\u001b[0;32m<ipython-input-10-47824a1b7942>\u001b[0m in \u001b[0;36m<cell line: 2>\u001b[0;34m()\u001b[0m\n\u001b[1;32m      1\u001b[0m \u001b[0;32mfrom\u001b[0m \u001b[0mgoogle\u001b[0m\u001b[0;34m.\u001b[0m\u001b[0mcolab\u001b[0m \u001b[0;32mimport\u001b[0m \u001b[0mfiles\u001b[0m\u001b[0;34m\u001b[0m\u001b[0;34m\u001b[0m\u001b[0m\n\u001b[0;32m----> 2\u001b[0;31m \u001b[0muploaded\u001b[0m \u001b[0;34m=\u001b[0m \u001b[0mfiles\u001b[0m\u001b[0;34m.\u001b[0m\u001b[0mupload\u001b[0m\u001b[0;34m(\u001b[0m\u001b[0;34m)\u001b[0m  \u001b[0;31m# This will open a file dialog for uploading files\u001b[0m\u001b[0;34m\u001b[0m\u001b[0;34m\u001b[0m\u001b[0m\n\u001b[0m",
            "\u001b[0;32m/usr/local/lib/python3.10/dist-packages/google/colab/files.py\u001b[0m in \u001b[0;36mupload\u001b[0;34m()\u001b[0m\n\u001b[1;32m     67\u001b[0m   \"\"\"\n\u001b[1;32m     68\u001b[0m \u001b[0;34m\u001b[0m\u001b[0m\n\u001b[0;32m---> 69\u001b[0;31m   \u001b[0muploaded_files\u001b[0m \u001b[0;34m=\u001b[0m \u001b[0m_upload_files\u001b[0m\u001b[0;34m(\u001b[0m\u001b[0mmultiple\u001b[0m\u001b[0;34m=\u001b[0m\u001b[0;32mTrue\u001b[0m\u001b[0;34m)\u001b[0m\u001b[0;34m\u001b[0m\u001b[0;34m\u001b[0m\u001b[0m\n\u001b[0m\u001b[1;32m     70\u001b[0m   \u001b[0;31m# Mapping from original filename to filename as saved locally.\u001b[0m\u001b[0;34m\u001b[0m\u001b[0;34m\u001b[0m\u001b[0m\n\u001b[1;32m     71\u001b[0m   \u001b[0mlocal_filenames\u001b[0m \u001b[0;34m=\u001b[0m \u001b[0mdict\u001b[0m\u001b[0;34m(\u001b[0m\u001b[0;34m)\u001b[0m\u001b[0;34m\u001b[0m\u001b[0;34m\u001b[0m\u001b[0m\n",
            "\u001b[0;32m/usr/local/lib/python3.10/dist-packages/google/colab/files.py\u001b[0m in \u001b[0;36m_upload_files\u001b[0;34m(multiple)\u001b[0m\n\u001b[1;32m    154\u001b[0m \u001b[0;34m\u001b[0m\u001b[0m\n\u001b[1;32m    155\u001b[0m   \u001b[0;31m# First result is always an indication that the file picker has completed.\u001b[0m\u001b[0;34m\u001b[0m\u001b[0;34m\u001b[0m\u001b[0m\n\u001b[0;32m--> 156\u001b[0;31m   result = _output.eval_js(\n\u001b[0m\u001b[1;32m    157\u001b[0m       'google.colab._files._uploadFiles(\"{input_id}\", \"{output_id}\")'.format(\n\u001b[1;32m    158\u001b[0m           \u001b[0minput_id\u001b[0m\u001b[0;34m=\u001b[0m\u001b[0minput_id\u001b[0m\u001b[0;34m,\u001b[0m \u001b[0moutput_id\u001b[0m\u001b[0;34m=\u001b[0m\u001b[0moutput_id\u001b[0m\u001b[0;34m\u001b[0m\u001b[0;34m\u001b[0m\u001b[0m\n",
            "\u001b[0;32m/usr/local/lib/python3.10/dist-packages/google/colab/output/_js.py\u001b[0m in \u001b[0;36meval_js\u001b[0;34m(script, ignore_result, timeout_sec)\u001b[0m\n\u001b[1;32m     38\u001b[0m   \u001b[0;32mif\u001b[0m \u001b[0mignore_result\u001b[0m\u001b[0;34m:\u001b[0m\u001b[0;34m\u001b[0m\u001b[0;34m\u001b[0m\u001b[0m\n\u001b[1;32m     39\u001b[0m     \u001b[0;32mreturn\u001b[0m\u001b[0;34m\u001b[0m\u001b[0;34m\u001b[0m\u001b[0m\n\u001b[0;32m---> 40\u001b[0;31m   \u001b[0;32mreturn\u001b[0m \u001b[0m_message\u001b[0m\u001b[0;34m.\u001b[0m\u001b[0mread_reply_from_input\u001b[0m\u001b[0;34m(\u001b[0m\u001b[0mrequest_id\u001b[0m\u001b[0;34m,\u001b[0m \u001b[0mtimeout_sec\u001b[0m\u001b[0;34m)\u001b[0m\u001b[0;34m\u001b[0m\u001b[0;34m\u001b[0m\u001b[0m\n\u001b[0m\u001b[1;32m     41\u001b[0m \u001b[0;34m\u001b[0m\u001b[0m\n\u001b[1;32m     42\u001b[0m \u001b[0;34m\u001b[0m\u001b[0m\n",
            "\u001b[0;32m/usr/local/lib/python3.10/dist-packages/google/colab/_message.py\u001b[0m in \u001b[0;36mread_reply_from_input\u001b[0;34m(message_id, timeout_sec)\u001b[0m\n\u001b[1;32m     94\u001b[0m     \u001b[0mreply\u001b[0m \u001b[0;34m=\u001b[0m \u001b[0m_read_next_input_message\u001b[0m\u001b[0;34m(\u001b[0m\u001b[0;34m)\u001b[0m\u001b[0;34m\u001b[0m\u001b[0;34m\u001b[0m\u001b[0m\n\u001b[1;32m     95\u001b[0m     \u001b[0;32mif\u001b[0m \u001b[0mreply\u001b[0m \u001b[0;34m==\u001b[0m \u001b[0m_NOT_READY\u001b[0m \u001b[0;32mor\u001b[0m \u001b[0;32mnot\u001b[0m \u001b[0misinstance\u001b[0m\u001b[0;34m(\u001b[0m\u001b[0mreply\u001b[0m\u001b[0;34m,\u001b[0m \u001b[0mdict\u001b[0m\u001b[0;34m)\u001b[0m\u001b[0;34m:\u001b[0m\u001b[0;34m\u001b[0m\u001b[0;34m\u001b[0m\u001b[0m\n\u001b[0;32m---> 96\u001b[0;31m       \u001b[0mtime\u001b[0m\u001b[0;34m.\u001b[0m\u001b[0msleep\u001b[0m\u001b[0;34m(\u001b[0m\u001b[0;36m0.025\u001b[0m\u001b[0;34m)\u001b[0m\u001b[0;34m\u001b[0m\u001b[0;34m\u001b[0m\u001b[0m\n\u001b[0m\u001b[1;32m     97\u001b[0m       \u001b[0;32mcontinue\u001b[0m\u001b[0;34m\u001b[0m\u001b[0;34m\u001b[0m\u001b[0m\n\u001b[1;32m     98\u001b[0m     if (\n",
            "\u001b[0;31mKeyboardInterrupt\u001b[0m: "
          ]
        }
      ]
    }
  ]
}